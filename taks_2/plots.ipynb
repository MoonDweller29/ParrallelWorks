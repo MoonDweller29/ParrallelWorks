{
 "cells": [
  {
   "cell_type": "code",
   "execution_count": 48,
   "metadata": {},
   "outputs": [],
   "source": [
    "%matplotlib inline\n",
    "import numpy as np\n",
    "import matplotlib\n",
    "import matplotlib.pyplot as plt\n",
    "from mpl_toolkits import mplot3d"
   ]
  },
  {
   "cell_type": "code",
   "execution_count": 49,
   "metadata": {},
   "outputs": [],
   "source": [
    "# # 128, 86, 256\n",
    "# x00 = np.fromfile('res/0_0_0.mat')\n",
    "# x00 = x00.reshape(130,88,258)\n",
    "# x10 = np.fromfile('res/1_0_0.mat')\n",
    "# x10 = x10.reshape(130,88,258)"
   ]
  },
  {
   "cell_type": "code",
   "execution_count": 50,
   "metadata": {},
   "outputs": [],
   "source": [
    "# (x00[-1]-x10[1])[1:-2,1:-2].max()"
   ]
  },
  {
   "cell_type": "code",
   "execution_count": 51,
   "metadata": {
    "scrolled": true
   },
   "outputs": [
    {
     "name": "stdout",
     "output_type": "stream",
     "text": [
      "(128, 128, 128)\n"
     ]
    }
   ],
   "source": [
    "shape = [128, 128, 128]\n",
    "arr = np.fromfile('res/0_0_0.mat')\n",
    "arr = arr.reshape(shape[0]+2, shape[2]+2, shape[2]+2)\n",
    "# print((arr[:,0,:] - arr[:,-2,:])[1:-2,1:-2].max())\n",
    "arr = arr[1:-1,1:-1,1:-1]\n",
    "print(arr.shape)"
   ]
  },
  {
   "cell_type": "code",
   "execution_count": 52,
   "metadata": {},
   "outputs": [],
   "source": [
    "class U4D:\n",
    "    def __init__(self, L):\n",
    "        self.L = L\n",
    "        self.a_t = np.pi*np.sqrt( 9/(L[0]**2) + 4/(L[1]**2) + 4/(L[2]**2) )\n",
    "    \n",
    "    def __call__(self, X, Y, z, t):\n",
    "        return np.sin(X*3*np.pi/self.L[0])*np.sin(Y*2*np.pi/self.L[1])*np.sin(z*2*np.pi/self.L[2])*\\\n",
    "        np.cos(self.a_t*t + 4*np.pi);"
   ]
  },
  {
   "cell_type": "code",
   "execution_count": 53,
   "metadata": {},
   "outputs": [],
   "source": [
    "L = np.array([1, 1, 1])\n",
    "h = L/shape\n",
    "T = 0.025\n",
    "\n",
    "x = np.linspace(0, L[0], shape[0])\n",
    "y = np.linspace(0, L[1], shape[1])\n",
    "\n",
    "X, Y = np.meshgrid(x, y)\n",
    "U = U4D(L)(X, Y, 0, 0)\n",
    "F = np.sin(X*10)+Y"
   ]
  },
  {
   "cell_type": "code",
   "execution_count": 61,
   "metadata": {
    "scrolled": true
   },
   "outputs": [],
   "source": [
    "font = {\n",
    "    \"family\" : \"monospace\",\n",
    "    \"weight\" : \"normal\",\n",
    "    \"size\"   : 20\n",
    "}\n",
    "\n",
    "matplotlib.rc(\"font\", **font)\n",
    "\n",
    "# Turn interactive plotting off\n",
    "# plt.ioff()\n",
    "\n",
    "for z_i in range(shape[2]):\n",
    "    fig = plt.figure(figsize=(30,10))\n",
    "    U = U4D(L)(X, Y, h[2]*z_i, T)\n",
    "    \n",
    "    ax = fig.add_subplot(1, 3, 1, projection='3d')\n",
    "    ax.plot_surface(X, Y, U, rstride=1, cstride=1,\n",
    "                    cmap='viridis', edgecolor='none')\n",
    "    ax.set_title('analytical U')\n",
    "    ax.set_zlim3d(-0.8,0.8)\n",
    "    ax.set_xlabel('x')\n",
    "    ax.set_ylabel('y')\n",
    "    ax.set_zlabel('u')\n",
    "\n",
    "\n",
    "    ax = fig.add_subplot(1, 3, 2, projection='3d')\n",
    "    ax.plot_surface(X, Y, arr[:,:,z_i].T, rstride=1, cstride=1,\n",
    "                    cmap='viridis', edgecolor='none')\n",
    "    ax.set_title('discrete U');\n",
    "    ax.set_zlim3d(-0.8,0.8)\n",
    "    ax.set_xlabel('x')\n",
    "    ax.set_ylabel('y')\n",
    "    ax.set_zlabel('u');\n",
    "\n",
    "    ax = fig.add_subplot(1, 3, 3, projection='3d')\n",
    "    ax.plot_surface(X, Y, arr[:,:,z_i].T - U, rstride=1, cstride=1,\n",
    "                    cmap='viridis', edgecolor='none')\n",
    "    ax.set_title('diff');\n",
    "    ax.set_zlim3d(-0.4, 0.4)\n",
    "    ax.set_xlabel('x')\n",
    "    ax.set_ylabel('y')\n",
    "    ax.set_zlabel('u');\n",
    "\n",
    "\n",
    "    plt.savefig('imgs/{0:03}.png'.format(z_i))\n",
    "\n",
    "# plt.show()"
   ]
  },
  {
   "cell_type": "code",
   "execution_count": 9,
   "metadata": {},
   "outputs": [],
   "source": [
    "# fig, axes = plt.subplots(1, 1, figsize=(20, 6))\n",
    "# fig.suptitle(\"F(X)\", fontsize=20)\n",
    "\n",
    "# axes.plot(x, F[1])\n",
    "\n",
    "# plt.show()"
   ]
  },
  {
   "cell_type": "markdown",
   "metadata": {},
   "source": [
    "### Saving images to gif"
   ]
  },
  {
   "cell_type": "code",
   "execution_count": 3,
   "metadata": {},
   "outputs": [],
   "source": [
    "from array2gif import write_gif\n",
    "from os import listdir\n",
    "from os.path import isfile, join\n",
    "from skimage.io import imread\n",
    "from skimage import img_as_ubyte\n",
    "from PIL import Image"
   ]
  },
  {
   "cell_type": "code",
   "execution_count": 11,
   "metadata": {},
   "outputs": [],
   "source": [
    "def get_files(path):\n",
    "    return sorted([f for f in listdir(path) if isfile(join(path, f))])\n",
    "\n",
    "def load_images(path):\n",
    "    filenames = get_files(path)\n",
    "    imgs = []\n",
    "    for name in filenames:\n",
    "        curr_img = Image.open(join(path, name))\n",
    "        imgs.append(curr_img)\n",
    "    \n",
    "    return imgs"
   ]
  },
  {
   "cell_type": "code",
   "execution_count": 12,
   "metadata": {},
   "outputs": [],
   "source": [
    "images = load_images(\"imgs\")"
   ]
  },
  {
   "cell_type": "code",
   "execution_count": 13,
   "metadata": {},
   "outputs": [],
   "source": [
    "images[0].save(fp=\"graphics.gif\", format='GIF', append_images=images,\n",
    "         save_all=True, duration=100, loop=0)"
   ]
  },
  {
   "cell_type": "markdown",
   "metadata": {},
   "source": [
    "### Drawing error plot"
   ]
  },
  {
   "cell_type": "code",
   "execution_count": 16,
   "metadata": {},
   "outputs": [],
   "source": [
    "err_128 = [4.08627e-08,\n",
    "0.00188301, 0.00555164, 0.0108176, 0.0174137,\n",
    "0.0250108, 0.0332384, 0.0417075, 0.0500341,\n",
    "0.0578618, 0.0648821, 0.0708501, 0.0755964,\n",
    "0.0790327, 0.0811526, 0.082026, 0.081789,\n",
    "0.0806306, 0.0787753, 0.0764651, 0.0793152,\n",
    "0.0822037, 0.0838514, 0.0842882, 0.0836121,\n",
    "0.0819815, 0.079602, 0.0795205, 0.0825289,\n",
    "0.0844009, 0.0851217, 0.0847379, 0.0833548,\n",
    "0.0811298, 0.0798999, 0.0827868, 0.0846277,\n",
    "0.0853929, 0.0851053, 0.0838403]\n",
    "\n",
    "err_256 = [8.0648e-09,\n",
    "0.00376857, 0.0105319, 0.0189412, 0.0274115,\n",
    "0.0345064, 0.0392608, 0.0413591, 0.041128,\n",
    "0.0393629, 0.0412037, 0.0428233, 0.0421387,\n",
    "0.0398454, 0.0427579, 0.0434621, 0.0420957,\n",
    "0.0418737, 0.0437387, 0.0434591, 0.041407,\n",
    "0.043372, 0.0440854, 0.0428801, 0.0426261,\n",
    "0.0441733, 0.0438081, 0.041802, 0.0438847,\n",
    "0.0442849, 0.0429626, 0.0433385, 0.0444072,\n",
    "0.0437561, 0.0426185, 0.0442576, 0.0442326,\n",
    "0.0426684, 0.0439027, 0.0444446]\n",
    "\n",
    "err_512 = [1.35833e-10,\n",
    "0.00753841, 0.0164359, 0.0206623, 0.0197339,\n",
    "0.0214829, 0.0198118, 0.021807, 0.0211092,\n",
    "0.0217149, 0.0219546, 0.0212647, 0.0223272,\n",
    "0.021237, 0.0222513, 0.0221252, 0.0217839,\n",
    "0.022516, 0.0214862, 0.0224417, 0.0222992,\n",
    "0.0219634, 0.0226269, 0.0217809, 0.0225009,\n",
    "0.022468, 0.0219809, 0.0226906, 0.0220695,\n",
    "0.0224805, 0.022609, 0.0218995, 0.0227133,\n",
    "0.022344, 0.0224478, 0.0228477, 0.0222606,\n",
    "0.0236131, 0.0252857, 0.029211]\n",
    "\n",
    "err_128pi = [4.40418e-09,\n",
    "0.000191004, 0.000572012, 0.00114103, 0.00189507,\n",
    "0.00283022, 0.0039416, 0.00522342, 0.00666907,\n",
    "0.00827106, 0.0100212, 0.0119104, 0.0139292,\n",
    "0.0160673, 0.0183139, 0.0206578, 0.0230873,\n",
    "0.0255905, 0.0281552, 0.030769, 0.0334193,\n",
    "0.0360938, 0.0387798, 0.0414651, 0.0441376,\n",
    "0.0467854, 0.049397, 0.0519612, 0.0544675,\n",
    "0.0569057, 0.0592664, 0.0615405, 0.06372,\n",
    "0.0657972, 0.0677655, 0.069619, 0.0713523,\n",
    "0.0729613, 0.0744424, 0.0757929]\n",
    "\n",
    "err_256pi = [1.07769e-09,\n",
    "0.000382268, 0.00113884, 0.00225402, 0.00370474,\n",
    "0.00546122, 0.00748767, 0.00974327, 0.0121832,\n",
    "0.0147596, 0.0174231, 0.0201238, 0.0228125,\n",
    "0.025442, 0.0279679, 0.0303499, 0.0325528,\n",
    "0.0345467, 0.0363079, 0.0378191, 0.0390701,\n",
    "0.0400568, 0.0407819, 0.0412544, 0.0414885,\n",
    "0.0415037, 0.0413235, 0.0409749, 0.0404872,\n",
    "0.0398911, 0.0392181, 0.0391645, 0.0403848,\n",
    "0.0413643, 0.0420973, 0.0425839, 0.0428302,\n",
    "0.0428477, 0.042653, 0.0422673]\n",
    "\n",
    "err_512pi = [2.45947e-10,\n",
    "0.000764666, 0.00223042, 0.00427674, 0.00673855,\n",
    "0.00942311, 0.0121293, 0.014667, 0.0168751,\n",
    "0.0186351, 0.0198798, 0.0205961, 0.0208214,\n",
    "0.0206358, 0.0201487, 0.0194845, 0.0205675,\n",
    "0.0212896, 0.0215232, 0.0213178, 0.0207616,\n",
    "0.0201677, 0.0211885, 0.0217523, 0.0218619,\n",
    "0.02156, 0.020925, 0.0209211, 0.0217079,\n",
    "0.0220661, 0.0220064, 0.0215743, 0.0208464,\n",
    "0.0215506, 0.022093, 0.0222335, 0.0219936,\n",
    "0.0214247, 0.0213501, 0.0220277]"
   ]
  },
  {
   "cell_type": "code",
   "execution_count": 42,
   "metadata": {},
   "outputs": [],
   "source": [
    "err_128 = np.fromfile('errors/128.vec')\n",
    "err_256 = np.fromfile('errors/256.vec')\n",
    "err_512 = np.fromfile('errors/512.vec')\n",
    "err_128pi = np.fromfile('errors/128pi.vec')\n",
    "err_256pi = np.fromfile('errors/256pi.vec')\n",
    "err_512pi = np.fromfile('errors/512pi.vec')"
   ]
  },
  {
   "cell_type": "code",
   "execution_count": 43,
   "metadata": {},
   "outputs": [
    {
     "data": {
      "image/png": "[encoded data removed]",
      "text/plain": [
       "<Figure size 864x288 with 1 Axes>"
      ]
     },
     "metadata": {
      "needs_background": "light"
     },
     "output_type": "display_data"
    }
   ],
   "source": [
    "# n = np.arange(40)+1\n",
    "n = np.arange(21)\n",
    "n2 = np.arange(101)\n",
    "\n",
    "fig, ax = plt.subplots(1, 1, figsize=(12, 4))\n",
    "\n",
    "ax.plot(n, err_128, label=\"err_128\")\n",
    "ax.plot(n, err_128pi, label=\"err_128pi\")\n",
    "ax.plot(n, err_256, label=\"err_256\")\n",
    "ax.plot(n, err_256pi, label=\"err_256pi\")\n",
    "ax.plot(n, err_512, label=\"err_512\")\n",
    "ax.plot(n, err_512pi, label=\"err_512pi\")\n",
    "# ax.plot(n2, 2*(n2*0.0001)**2, label=\"x^2\")\n",
    "ax.grid()\n",
    "ax.legend()\n",
    "\n",
    "fig.suptitle(\"Зависимость погрешности от номера итерации\", fontsize=15)\n",
    "\n",
    "\n",
    "plt.show()"
   ]
  },
  {
   "cell_type": "code",
   "execution_count": 22,
   "metadata": {},
   "outputs": [
    {
     "data": {
      "text/plain": [
       "12.95311834341519"
      ]
     },
     "execution_count": 22,
     "metadata": {},
     "output_type": "execute_result"
    }
   ],
   "source": [
    "U4D([1, 1, 1]).a_t"
   ]
  },
  {
   "cell_type": "code",
   "execution_count": 60,
   "metadata": {},
   "outputs": [
    {
     "data": {
      "text/plain": [
       "9.890756569319592e-08"
      ]
     },
     "execution_count": 60,
     "metadata": {},
     "output_type": "execute_result"
    }
   ],
   "source": [
    "err_512pi[-1]"
   ]
  },
  {
   "cell_type": "code",
   "execution_count": null,
   "metadata": {},
   "outputs": [],
   "source": []
  }
 ],
 "metadata": {
  "kernelspec": {
   "display_name": "Python 3",
   "language": "python",
   "name": "python3"
  },
  "language_info": {
   "codemirror_mode": {
    "name": "ipython",
    "version": 3
   },
   "file_extension": ".py",
   "mimetype": "text/x-python",
   "name": "python",
   "nbconvert_exporter": "python",
   "pygments_lexer": "ipython3",
   "version": "3.8.5"
  }
 },
 "nbformat": 4,
 "nbformat_minor": 4
}
